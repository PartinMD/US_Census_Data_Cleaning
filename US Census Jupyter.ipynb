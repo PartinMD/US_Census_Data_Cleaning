{
 "cells": [
  {
   "cell_type": "code",
   "execution_count": 1,
   "id": "bc43d2d6",
   "metadata": {},
   "outputs": [],
   "source": [
    "# Import all dependencies\n",
    "import pandas as pd\n",
    "import numpy as np\n",
    "import matplotlib.pyplot as plt\n",
    "import glob\n",
    "\n",
    "# Use glob to sort the csv_files into a single path\n",
    "csv_files = glob.glob('states*.csv')\n"
   ]
  },
  {
   "cell_type": "code",
   "execution_count": 9,
   "id": "08fba4a1",
   "metadata": {},
   "outputs": [
    {
     "name": "stdout",
     "output_type": "stream",
     "text": [
      "   Unnamed: 0       State  TotalPop             Hispanic                White  \\\n",
      "0           0     Alabama   4830620  3.7516156462584975%     61.878656462585%   \n",
      "1           1      Alaska    733375   5.909580838323351%  60.910179640718574%   \n",
      "2           2     Arizona   6641928  29.565921052631502%  57.120000000000026%   \n",
      "3           3    Arkansas   2958208   6.215474452554738%   71.13781021897813%   \n",
      "4           4  California  38421464  37.291874687968054%   40.21578881677474%   \n",
      "\n",
      "                 Black                Native                Asian  \\\n",
      "0   31.25297619047618%   0.4532312925170065%  1.0502551020408146%   \n",
      "1  2.8485029940119775%    16.39101796407186%   5.450299401197604%   \n",
      "2  3.8509868421052658%     4.35506578947368%   2.876578947368419%   \n",
      "3  18.968759124087573%   0.5229197080291965%  1.1423357664233578%   \n",
      "4   5.677396405391911%  0.40529206190713685%  13.052234148776776%   \n",
      "\n",
      "                Pacific              Income            GenderPop  \n",
      "0  0.03435374149659865%  $43296.35860306644    2341093M_2489527F  \n",
      "1   1.0586826347305378%  $70354.74390243902      384160M_349215F  \n",
      "2  0.16763157894736833%  $54207.82095490716    3299088M_3342840F  \n",
      "3  0.14686131386861315%  $41935.63396778917    1451913M_1506295F  \n",
      "4  0.35141038442336353%  $67264.78230266465  19087135M_19334329F  \n"
     ]
    }
   ],
   "source": [
    "# Loop through the csv_files and sort them into temporary dataframes\n",
    "temp_dfs = []\n",
    "for file in csv_files:\n",
    "    temp_df = pd.read_csv(file)\n",
    "    temp_dfs.append(temp_df)\n",
    "    \n",
    "# Concatenate the list of dataframes into a single dataframe\n",
    "us_census = pd.concat(temp_dfs, axis = 0)\n",
    "print(us_census.head(5))"
   ]
  },
  {
   "cell_type": "code",
   "execution_count": 10,
   "id": "8dba1f53",
   "metadata": {},
   "outputs": [],
   "source": [
    "# Change income into a workable datatype (numeric)\n",
    "us_census['Income'] = us_census['Income'].str.replace('$', '', regex = True)\n",
    "us_census['Income'] = pd.to_numeric(us_census['Income'])\n",
    "\n",
    "# Separate GenderPop into two columns Gender and Population\n",
    "gen_split = us_census['GenderPop'].str.split('_', expand = True)\n",
    "gen_split[0] = gen_split[0].replace('M', '', regex = True)\n",
    "gen_split[1] = gen_split[1].replace('F', '', regex = True)\n",
    "#print(gen_split)\n",
    "\n",
    "# Create the two new columns and remove the old 'GenderPop' column in us_census dataframe\n",
    "us_census['Male Population'] = gen_split[0]\n",
    "us_census['Female Population'] = gen_split[1]\n",
    "us_census = us_census.drop('GenderPop', axis = 1)\n",
    "\n",
    "# Convert the new columns into the numeric datatype\n",
    "us_census['Male Population'] = pd.to_numeric(us_census['Male Population'])\n",
    "us_census['Female Population'] = pd.to_numeric(us_census['Female Population'])\n",
    "\n",
    "# Fill in any Null values within the population columns with estimates from TotalPop\n",
    "us_census = us_census.fillna(value={\n",
    "  'Female Population': us_census['TotalPop'] - us_census['Male Population']\n",
    "})\n",
    "\n",
    "# Drop all duplicate data entries\n",
    "us_census = us_census.drop_duplicates('State')\n",
    "#print(us_census.head(5))\n"
   ]
  },
  {
   "cell_type": "code",
   "execution_count": 11,
   "id": "f4f259b2",
   "metadata": {},
   "outputs": [
    {
     "data": {
      "image/png": "[encoded data removed]",
      "text/plain": [
       "<Figure size 432x288 with 1 Axes>"
      ]
     },
     "metadata": {
      "needs_background": "light"
     },
     "output_type": "display_data"
    }
   ],
   "source": [
    "# Create a scatterplot showing the relation of Female Population and Income\n",
    "plt.scatter(us_census['Female Population'], us_census['Income'])\n",
    "plt.show()"
   ]
  },
  {
   "cell_type": "code",
   "execution_count": 12,
   "id": "935f6861",
   "metadata": {},
   "outputs": [],
   "source": [
    "# Clean all race data for analysis (Remove symbols and convert to numeric)\n",
    "us_census['Hispanic'] = us_census['Hispanic'].str.replace('%', '', regex = True)\n",
    "us_census['Hispanic'] = pd.to_numeric(us_census['Hispanic'])\n",
    "#\n",
    "us_census['White'] = us_census['White'].str.replace('%', '', regex = True)\n",
    "us_census['White'] = pd.to_numeric(us_census['White'])\n",
    "#\n",
    "us_census['Black'] = us_census['Black'].str.replace('%', '', regex = True)\n",
    "us_census['Black'] = pd.to_numeric(us_census['Black'])\n",
    "#\n",
    "us_census['Native'] = us_census['Native'].str.replace('%', '', regex = True)\n",
    "us_census['Native'] = pd.to_numeric(us_census['Native'])\n",
    "#\n",
    "us_census['Asian'] = us_census['Asian'].str.replace('%', '', regex = True)\n",
    "us_census['Asian'] = pd.to_numeric(us_census['Asian'])\n",
    "#\n",
    "us_census['Pacific'] = us_census['Pacific'].str.replace('%', '', regex = True)\n",
    "us_census['Pacific'] = pd.to_numeric(us_census['Pacific'])\n",
    "#\n",
    "\n",
    "# Fill Null values within Pacific column with the us_census average\n",
    "us_census = us_census.fillna(value={\n",
    "  'Pacific': us_census['Pacific'].mean()\n",
    "})\n"
   ]
  },
  {
   "cell_type": "code",
   "execution_count": 13,
   "id": "a091363a",
   "metadata": {},
   "outputs": [
    {
     "data": {
      "image/png": "[encoded data removed]",
      "text/plain": [
       "<Figure size 432x288 with 1 Axes>"
      ]
     },
     "metadata": {
      "needs_background": "light"
     },
     "output_type": "display_data"
    },
    {
     "data": {
      "image/png": "[encoded data removed]",
      "text/plain": [
       "<Figure size 432x288 with 1 Axes>"
      ]
     },
     "metadata": {
      "needs_background": "light"
     },
     "output_type": "display_data"
    },
    {
     "data": {
      "image/png": "[encoded data removed]",
      "text/plain": [
       "<Figure size 432x288 with 1 Axes>"
      ]
     },
     "metadata": {
      "needs_background": "light"
     },
     "output_type": "display_data"
    },
    {
     "data": {
      "image/png": "[encoded data removed]",
      "text/plain": [
       "<Figure size 432x288 with 1 Axes>"
      ]
     },
     "metadata": {
      "needs_background": "light"
     },
     "output_type": "display_data"
    },
    {
     "data": {
      "image/png": "[encoded data removed]",
      "text/plain": [
       "<Figure size 432x288 with 1 Axes>"
      ]
     },
     "metadata": {
      "needs_background": "light"
     },
     "output_type": "display_data"
    },
    {
     "data": {
      "image/png": "[encoded data removed]",
      "text/plain": [
       "<Figure size 432x288 with 1 Axes>"
      ]
     },
     "metadata": {
      "needs_background": "light"
     },
     "output_type": "display_data"
    },
    {
     "name": "stdout",
     "output_type": "stream",
     "text": [
      "   Unnamed: 0                 State  TotalPop   Hispanic      White  \\\n",
      "0           0               Alabama   4830620   3.751616  61.878656   \n",
      "1           1                Alaska    733375   5.909581  60.910180   \n",
      "2           2               Arizona   6641928  29.565921  57.120000   \n",
      "3           3              Arkansas   2958208   6.215474  71.137810   \n",
      "4           4            California  38421464  37.291875  40.215789   \n",
      "5           5              Colorado   5278906  20.784380  69.895572   \n",
      "1           1           Connecticut   3593222  15.604831  67.677053   \n",
      "2           2              Delaware    926454   8.824766  64.632710   \n",
      "3           3  District of Columbia    647484   9.165922  33.103911   \n",
      "4           4               Florida  19645772  21.338543  59.083749   \n",
      "5           5               Georgia  10006693   8.418242  54.286306   \n",
      "1           1                Hawaii   1406299   9.186709  25.032278   \n",
      "2           2                 Idaho   1616547  11.505369  83.136242   \n",
      "3           3              Illinois  12873761  15.601734  60.859807   \n",
      "4           4               Indiana   6568645   6.536744  78.431894   \n",
      "5           5                  Iowa   3093526   5.303645  87.719684   \n",
      "1           1                Kansas   2892987  11.644342  75.958289   \n",
      "2           2              Kentucky   4397353   3.222994  85.230748   \n",
      "3           3             Louisiana   4625253   4.866489  54.978546   \n",
      "4           4                 Maine   1329100   1.431909  93.707407   \n",
      "5           5              Maryland   5930538   8.472498  52.679050   \n",
      "1           1         Massachusetts   6705586  11.461066  73.041052   \n",
      "2           2              Michigan   9900571   4.634993  72.381722   \n",
      "3           3             Minnesota   5419171   5.152924  81.427061   \n",
      "4           4           Mississippi   2988081   2.842401  53.286322   \n",
      "5           5              Missouri   6045448   4.037248  77.508069   \n",
      "1           1               Montana   1014699   3.268889  86.415556   \n",
      "2           2              Nebraska   1869365   9.203759  81.139474   \n",
      "3           3                Nevada   2798636  27.100884  53.239323   \n",
      "4           4         New Hampshire   1324201   3.321918  91.319178   \n",
      "5           5            New Jersey   8904413  18.749500  56.488761   \n",
      "1           1            New Mexico   2084117  45.282932  40.697992   \n",
      "2           2              New York  19673174  17.241425  56.470105   \n",
      "3           3        North Carolina   9845333   8.464763  64.597651   \n",
      "4           4          North Dakota    721640   2.832683  87.448293   \n",
      "5           5                  Ohio  11575977   3.672084  75.903060   \n",
      "1           1              Oklahoma   3849733  10.079904  66.059426   \n",
      "2           2                Oregon   3939233  11.441212  78.395515   \n",
      "3           3          Pennsylvania  12779559   6.128014  77.383854   \n",
      "4           4           Puerto Rico   3583073  98.893574   0.773619   \n",
      "5           5          Rhode Island   1053661  13.356667  74.325417   \n",
      "1           1        South Carolina   4777576   5.056685  62.888736   \n",
      "2           2          South Dakota    843190   3.239640  82.500901   \n",
      "3           3             Tennessee   6499615   4.720027  73.490088   \n",
      "4           4                 Texas  26538614  38.046738  44.687909   \n",
      "5           5                  Utah   2903379  13.468376  79.406838   \n",
      "1           1               Vermont    626604   1.609290  93.983060   \n",
      "2           2              Virginia   8256630   8.011016  63.271048   \n",
      "3           3            Washington   6985464  11.140969  72.038408   \n",
      "4           4         West Virginia   1851420   1.290909  92.176240   \n",
      "5           5             Wisconsin   5742117   6.683333  79.864009   \n",
      "\n",
      "       Black     Native      Asian   Pacific        Income  Male Population  \\\n",
      "0  31.252976   0.453231   1.050255  0.034354  43296.358603          2341093   \n",
      "1   2.848503  16.391018   5.450299  1.058683  70354.743902           384160   \n",
      "2   3.850987   4.355066   2.876579  0.167632  54207.820955          3299088   \n",
      "3  18.968759   0.522920   1.142336  0.146861  41935.633968          1451913   \n",
      "4   5.677396   0.405292  13.052234  0.351410  67264.782303         19087135   \n",
      "5   3.546377   0.573833   2.661997  0.306500  64657.801787          2648667   \n",
      "1  10.348068   0.126208   4.021981  0.018599  76146.560588          1751607   \n",
      "2  20.743925   0.259813   3.268692  0.306500  61827.976636           448413   \n",
      "3  51.776536   0.200559   3.383240  0.029609  75466.363636           306674   \n",
      "4  15.165676   0.210451   2.283174  0.051510  50690.194987          9600009   \n",
      "5  32.088298   0.187583   3.097649  0.046602  50811.082051          4883331   \n",
      "1   2.052848   0.144937  36.592089  8.758861  73264.426282           709871   \n",
      "2   0.566779   1.468121   1.135906  0.127181  48017.315436           810464   \n",
      "3  17.108411   0.118427   4.475377  0.020032  59587.048875          6316899   \n",
      "4  11.186977   0.194086   1.578272  0.032625  48616.227848          3235263   \n",
      "5   3.256987   0.289793   1.699392  0.055164  53017.753041          1534595   \n",
      "1   6.567895   0.733947   2.331053  0.306500  53885.612648          1439862   \n",
      "2   8.272317   0.166637   1.129847  0.046438  45285.802536          2164208   \n",
      "3  36.326241   0.484309   1.669060  0.039184  44957.993761          2261156   \n",
      "4   1.134473   0.788319   0.965812  0.015670  49181.974359           650081   \n",
      "5  30.677754   0.203096   5.325414  0.036285  78765.400725          2872643   \n",
      "1   6.833128   0.128279   5.835656  0.019809  72838.936726          3249650   \n",
      "2  17.633103   0.484411   2.423110  0.019549  51201.830037          4861973   \n",
      "3   5.659820   1.069040   4.156072  0.032909  62820.833959          2692166   \n",
      "4  41.491945   0.389970   0.876444  0.015046  38909.919207          1451723   \n",
      "5  14.122118   0.363329   1.624496  0.101657  49763.987726          2964003   \n",
      "1   0.429259   7.060741   0.570370  0.072222  47645.682836           510163   \n",
      "2   4.956203   0.864474   1.859023  0.057143  55916.469697           929606   \n",
      "3   7.739617   1.087187   7.095729  0.574521  55526.525074          1407735   \n",
      "4   1.227740   0.142808   2.191438  0.016096  68728.859589           653484   \n",
      "5  14.387862   0.115335   8.159990  0.031319  76581.083417          4343027   \n",
      "1   1.755020   9.248594   1.234337  0.042771  47329.967871          1032414   \n",
      "2  15.668046   0.321639   7.897159  0.023451  64290.749113          9541801   \n",
      "3  21.395117   1.085491   2.317457  0.052326  49937.464137          4795408   \n",
      "4   1.284390   5.651220   0.961951  0.306500  58188.112195           367963   \n",
      "5  16.207276   0.168888   1.621081  0.022645  49655.248466          5662893   \n",
      "1   8.314737   6.716842   1.801148  0.106220  48100.854267          1906944   \n",
      "2   1.730788   1.000242   3.594909  0.345333  54271.901818          1948453   \n",
      "3  11.633948   0.119269   2.797751  0.019394  56170.464510          6245344   \n",
      "4   0.092559   0.002818   0.075197  0.001240  20720.538286          1713860   \n",
      "5   5.682917   0.346250   3.247500  0.035833  59125.270833           510388   \n",
      "1  28.750916   0.292399   1.249176  0.046978  46296.807763          2322409   \n",
      "2   1.423874   9.417568   1.019369  0.041892  51805.405405           423477   \n",
      "3  18.283817   0.226635   1.407283  0.043156  47328.083617          3167756   \n",
      "4  11.650048   0.261144   3.669696  0.068816  55874.522601         13171316   \n",
      "5   1.017949   1.081368   2.196068  0.825983  63488.917808          1459229   \n",
      "1   0.980874   0.301639   1.238798  0.030601  55602.967213           308573   \n",
      "2  20.175998   0.212453   5.455242  0.064715  72866.013412          4060948   \n",
      "3   3.384429   1.410727   7.022007  0.609896  64493.767684          3487725   \n",
      "4   3.662810   0.152686   0.682438  0.026446  41437.111570           913631   \n",
      "5   8.195187   0.953664   2.404239  0.020833  53898.889209          2851385   \n",
      "\n",
      "   Female Population  \n",
      "0          2489527.0  \n",
      "1           349215.0  \n",
      "2          3342840.0  \n",
      "3          1506295.0  \n",
      "4         19334329.0  \n",
      "5          2630239.0  \n",
      "1          1841615.0  \n",
      "2           478041.0  \n",
      "3           340810.0  \n",
      "4         10045763.0  \n",
      "5          5123362.0  \n",
      "1           696428.0  \n",
      "2           806083.0  \n",
      "3          6556862.0  \n",
      "4          3333382.0  \n",
      "5          1558931.0  \n",
      "1          1453125.0  \n",
      "2          2233145.0  \n",
      "3          2364097.0  \n",
      "4           679019.0  \n",
      "5          3057895.0  \n",
      "1          3455936.0  \n",
      "2          5038598.0  \n",
      "3          2727005.0  \n",
      "4          1536358.0  \n",
      "5          3081445.0  \n",
      "1           504536.0  \n",
      "2           939759.0  \n",
      "3          1390901.0  \n",
      "4           670717.0  \n",
      "5          4561386.0  \n",
      "1          1051703.0  \n",
      "2         10131373.0  \n",
      "3          5049925.0  \n",
      "4           353677.0  \n",
      "5          5913084.0  \n",
      "1          1942789.0  \n",
      "2          1990780.0  \n",
      "3          6534215.0  \n",
      "4          1869213.0  \n",
      "5           543273.0  \n",
      "1          2455167.0  \n",
      "2           419713.0  \n",
      "3          3331859.0  \n",
      "4         13367298.0  \n",
      "5          1444150.0  \n",
      "1           318031.0  \n",
      "2          4195682.0  \n",
      "3          3497739.0  \n",
      "4           937789.0  \n",
      "5          2890732.0  \n"
     ]
    },
    {
     "data": {
      "image/png": "[encoded data removed]",
      "text/plain": [
       "<Figure size 432x288 with 1 Axes>"
      ]
     },
     "metadata": {
      "needs_background": "light"
     },
     "output_type": "display_data"
    }
   ],
   "source": [
    "# Create a histogram for each of the races in the us_census\n",
    "def hist_factory(df, column):\n",
    "  plt.hist(df[column], edgecolor = 'black')\n",
    "  plt.title(column)\n",
    "  plt.xlabel('Percent % of Population')\n",
    "  plt.ylabel('Number of States')\n",
    "  plt.show()\n",
    "  plt.cla()\n",
    "\n",
    "hist_factory(us_census, 'Hispanic')\n",
    "hist_factory(us_census, 'White')\n",
    "hist_factory(us_census, 'Black')\n",
    "hist_factory(us_census, 'Native')\n",
    "hist_factory(us_census, 'Asian')\n",
    "hist_factory(us_census, 'Pacific')\n",
    "print(us_census)"
   ]
  }
 ],
 "metadata": {
  "kernelspec": {
   "display_name": "Python 3 (ipykernel)",
   "language": "python",
   "name": "python3"
  },
  "language_info": {
   "codemirror_mode": {
    "name": "ipython",
    "version": 3
   },
   "file_extension": ".py",
   "mimetype": "text/x-python",
   "name": "python",
   "nbconvert_exporter": "python",
   "pygments_lexer": "ipython3",
   "version": "3.9.7"
  }
 },
 "nbformat": 4,
 "nbformat_minor": 5
}
